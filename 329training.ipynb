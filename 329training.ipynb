{
 "cells": [
  {
   "cell_type": "code",
   "execution_count": 1,
   "id": "cd2d0ff1",
   "metadata": {},
   "outputs": [
    {
     "data": {
      "text/plain": [
       "'malla reddy university'"
      ]
     },
     "execution_count": 1,
     "metadata": {},
     "output_type": "execute_result"
    }
   ],
   "source": [
    "c = 'malla reddy university'\n",
    "c"
   ]
  },
  {
   "cell_type": "code",
   "execution_count": 2,
   "id": "86752e65",
   "metadata": {},
   "outputs": [
    {
     "name": "stdout",
     "output_type": "stream",
     "text": [
      "malla reddy university\n"
     ]
    }
   ],
   "source": [
    "print(c)"
   ]
  },
  {
   "cell_type": "code",
   "execution_count": 3,
   "id": "9f847548",
   "metadata": {},
   "outputs": [
    {
     "data": {
      "text/plain": [
       "str"
      ]
     },
     "execution_count": 3,
     "metadata": {},
     "output_type": "execute_result"
    }
   ],
   "source": [
    "type(c)\n"
   ]
  },
  {
   "cell_type": "code",
   "execution_count": 4,
   "id": "8781873a",
   "metadata": {},
   "outputs": [
    {
     "data": {
      "text/plain": [
       "(3+4j)"
      ]
     },
     "execution_count": 4,
     "metadata": {},
     "output_type": "execute_result"
    }
   ],
   "source": [
    "t = (3+4j)\n",
    "t"
   ]
  },
  {
   "cell_type": "code",
   "execution_count": 5,
   "id": "c36c8770",
   "metadata": {},
   "outputs": [
    {
     "data": {
      "text/plain": [
       "complex"
      ]
     },
     "execution_count": 5,
     "metadata": {},
     "output_type": "execute_result"
    }
   ],
   "source": [
    "type(t)"
   ]
  },
  {
   "cell_type": "code",
   "execution_count": 7,
   "id": "19fefc25",
   "metadata": {},
   "outputs": [
    {
     "data": {
      "text/plain": [
       "650"
      ]
     },
     "execution_count": 7,
     "metadata": {},
     "output_type": "execute_result"
    }
   ],
   "source": [
    "a = 650\n",
    "a"
   ]
  },
  {
   "cell_type": "markdown",
   "id": "11b2b276",
   "metadata": {},
   "source": [
    "### addition +\n",
    "### subtraction -\n",
    "### division /\n",
    "### multiplication *\n",
    "### reminder %\n",
    "### power **\n",
    "### floor division //"
   ]
  },
  {
   "cell_type": "code",
   "execution_count": 7,
   "id": "1bec17af",
   "metadata": {},
   "outputs": [],
   "source": [
    "a = 23\n",
    "b = 3\n"
   ]
  },
  {
   "cell_type": "code",
   "execution_count": 9,
   "id": "6966d8ff",
   "metadata": {},
   "outputs": [
    {
     "data": {
      "text/plain": [
       "26"
      ]
     },
     "execution_count": 9,
     "metadata": {},
     "output_type": "execute_result"
    }
   ],
   "source": [
    "c = a + b\n",
    "c"
   ]
  },
  {
   "cell_type": "code",
   "execution_count": 10,
   "id": "cf3cb4d6",
   "metadata": {},
   "outputs": [
    {
     "data": {
      "text/plain": [
       "int"
      ]
     },
     "execution_count": 10,
     "metadata": {},
     "output_type": "execute_result"
    }
   ],
   "source": [
    "type(c)"
   ]
  },
  {
   "cell_type": "code",
   "execution_count": 11,
   "id": "c7770c95",
   "metadata": {},
   "outputs": [
    {
     "data": {
      "text/plain": [
       "69"
      ]
     },
     "execution_count": 11,
     "metadata": {},
     "output_type": "execute_result"
    }
   ],
   "source": [
    "d = a*b\n",
    "d"
   ]
  },
  {
   "cell_type": "code",
   "execution_count": 12,
   "id": "f3a88416",
   "metadata": {},
   "outputs": [
    {
     "data": {
      "text/plain": [
       "int"
      ]
     },
     "execution_count": 12,
     "metadata": {},
     "output_type": "execute_result"
    }
   ],
   "source": [
    "type(d)\n"
   ]
  },
  {
   "cell_type": "code",
   "execution_count": 13,
   "id": "1e187c41",
   "metadata": {},
   "outputs": [
    {
     "data": {
      "text/plain": [
       "7.666666666666667"
      ]
     },
     "execution_count": 13,
     "metadata": {},
     "output_type": "execute_result"
    }
   ],
   "source": [
    "z = a/b\n",
    "z"
   ]
  },
  {
   "cell_type": "code",
   "execution_count": 14,
   "id": "9c8150f0",
   "metadata": {},
   "outputs": [
    {
     "data": {
      "text/plain": [
       "float"
      ]
     },
     "execution_count": 14,
     "metadata": {},
     "output_type": "execute_result"
    }
   ],
   "source": [
    "type(z)"
   ]
  },
  {
   "cell_type": "code",
   "execution_count": 15,
   "id": "5dac8ef8",
   "metadata": {},
   "outputs": [
    {
     "data": {
      "text/plain": [
       "7"
      ]
     },
     "execution_count": 15,
     "metadata": {},
     "output_type": "execute_result"
    }
   ],
   "source": [
    "f = a//b\n",
    "f"
   ]
  },
  {
   "cell_type": "code",
   "execution_count": 16,
   "id": "be979250",
   "metadata": {},
   "outputs": [
    {
     "data": {
      "text/plain": [
       "12167"
      ]
     },
     "execution_count": 16,
     "metadata": {},
     "output_type": "execute_result"
    }
   ],
   "source": [
    "g = a**b\n",
    "g"
   ]
  },
  {
   "cell_type": "markdown",
   "id": "1da04017",
   "metadata": {},
   "source": [
    "> < >= <= == !="
   ]
  },
  {
   "cell_type": "code",
   "execution_count": 17,
   "id": "230194f4",
   "metadata": {},
   "outputs": [],
   "source": [
    "a = 45\n",
    "b = 23"
   ]
  },
  {
   "cell_type": "code",
   "execution_count": 18,
   "id": "bbbc514b",
   "metadata": {},
   "outputs": [
    {
     "data": {
      "text/plain": [
       "False"
      ]
     },
     "execution_count": 18,
     "metadata": {},
     "output_type": "execute_result"
    }
   ],
   "source": [
    "a<b"
   ]
  },
  {
   "cell_type": "code",
   "execution_count": 19,
   "id": "54ddfb83",
   "metadata": {},
   "outputs": [
    {
     "data": {
      "text/plain": [
       "False"
      ]
     },
     "execution_count": 19,
     "metadata": {},
     "output_type": "execute_result"
    }
   ],
   "source": [
    "b>c"
   ]
  },
  {
   "cell_type": "code",
   "execution_count": 20,
   "id": "6a5de343",
   "metadata": {},
   "outputs": [
    {
     "data": {
      "text/plain": [
       "True"
      ]
     },
     "execution_count": 20,
     "metadata": {},
     "output_type": "execute_result"
    }
   ],
   "source": [
    "a>=b"
   ]
  },
  {
   "cell_type": "code",
   "execution_count": 21,
   "id": "86b863e5",
   "metadata": {},
   "outputs": [
    {
     "data": {
      "text/plain": [
       "False"
      ]
     },
     "execution_count": 21,
     "metadata": {},
     "output_type": "execute_result"
    }
   ],
   "source": [
    "a<=b\n"
   ]
  },
  {
   "cell_type": "code",
   "execution_count": 22,
   "id": "fc595fe5",
   "metadata": {},
   "outputs": [
    {
     "data": {
      "text/plain": [
       "False"
      ]
     },
     "execution_count": 22,
     "metadata": {},
     "output_type": "execute_result"
    }
   ],
   "source": [
    "a==b"
   ]
  },
  {
   "cell_type": "code",
   "execution_count": 23,
   "id": "5b766857",
   "metadata": {},
   "outputs": [
    {
     "data": {
      "text/plain": [
       "True"
      ]
     },
     "execution_count": 23,
     "metadata": {},
     "output_type": "execute_result"
    }
   ],
   "source": [
    "a!=b"
   ]
  },
  {
   "cell_type": "markdown",
   "id": "e1674c6b",
   "metadata": {},
   "source": [
    "  list tuple"
   ]
  },
  {
   "cell_type": "code",
   "execution_count": 3,
   "id": "9d4d8980",
   "metadata": {},
   "outputs": [],
   "source": [
    "a = 56"
   ]
  },
  {
   "cell_type": "code",
   "execution_count": 4,
   "id": "8b27c0d9",
   "metadata": {},
   "outputs": [
    {
     "data": {
      "text/plain": [
       "56"
      ]
     },
     "execution_count": 4,
     "metadata": {},
     "output_type": "execute_result"
    }
   ],
   "source": [
    "a"
   ]
  },
  {
   "cell_type": "code",
   "execution_count": 5,
   "id": "051b3b47",
   "metadata": {},
   "outputs": [
    {
     "data": {
      "text/plain": [
       "[23, 34, 45, 56, 67]"
      ]
     },
     "execution_count": 5,
     "metadata": {},
     "output_type": "execute_result"
    }
   ],
   "source": [
    "a=[ 23,34,45,56,67]\n",
    "a"
   ]
  },
  {
   "cell_type": "code",
   "execution_count": 6,
   "id": "b6132b85",
   "metadata": {},
   "outputs": [
    {
     "data": {
      "text/plain": [
       "list"
      ]
     },
     "execution_count": 6,
     "metadata": {},
     "output_type": "execute_result"
    }
   ],
   "source": [
    "type(a)"
   ]
  },
  {
   "cell_type": "code",
   "execution_count": 17,
   "id": "a6cb4231",
   "metadata": {},
   "outputs": [
    {
     "data": {
      "text/plain": [
       "[340, 80, 45, 'data', True]"
      ]
     },
     "execution_count": 17,
     "metadata": {},
     "output_type": "execute_result"
    }
   ],
   "source": [
    "d = [340,80,45,'data',True]\n",
    "d"
   ]
  },
  {
   "cell_type": "code",
   "execution_count": 18,
   "id": "2cebfc22",
   "metadata": {},
   "outputs": [],
   "source": [
    "c = [203,'Hyderabad',45,True,False,78,175,34.9]"
   ]
  },
  {
   "cell_type": "code",
   "execution_count": 19,
   "id": "23f58e37",
   "metadata": {},
   "outputs": [
    {
     "data": {
      "text/plain": [
       "[203, 'Hyderabad', 45, True, False, 78, 175, 34.9]"
      ]
     },
     "execution_count": 19,
     "metadata": {},
     "output_type": "execute_result"
    }
   ],
   "source": [
    "c"
   ]
  },
  {
   "cell_type": "code",
   "execution_count": 20,
   "id": "8f669600",
   "metadata": {},
   "outputs": [
    {
     "data": {
      "text/plain": [
       "203"
      ]
     },
     "execution_count": 20,
     "metadata": {},
     "output_type": "execute_result"
    }
   ],
   "source": [
    "c[0]"
   ]
  },
  {
   "cell_type": "code",
   "execution_count": 21,
   "id": "d72b1b3f",
   "metadata": {},
   "outputs": [
    {
     "data": {
      "text/plain": [
       "'Hyderabad'"
      ]
     },
     "execution_count": 21,
     "metadata": {},
     "output_type": "execute_result"
    }
   ],
   "source": [
    "c[1]"
   ]
  },
  {
   "cell_type": "code",
   "execution_count": null,
   "id": "f230d527",
   "metadata": {},
   "outputs": [],
   "source": []
  },
  {
   "cell_type": "code",
   "execution_count": 22,
   "id": "89d61639",
   "metadata": {},
   "outputs": [
    {
     "data": {
      "text/plain": [
       "False"
      ]
     },
     "execution_count": 22,
     "metadata": {},
     "output_type": "execute_result"
    }
   ],
   "source": [
    "c[4]"
   ]
  },
  {
   "cell_type": "code",
   "execution_count": 23,
   "id": "0bcf83bf",
   "metadata": {},
   "outputs": [
    {
     "data": {
      "text/plain": [
       "[203, 'Hyderabad', 45, True, False, 78, 175, 34.9]"
      ]
     },
     "execution_count": 23,
     "metadata": {},
     "output_type": "execute_result"
    }
   ],
   "source": [
    "c"
   ]
  },
  {
   "cell_type": "code",
   "execution_count": 24,
   "id": "8ed40964",
   "metadata": {},
   "outputs": [
    {
     "data": {
      "text/plain": [
       "[203, False]"
      ]
     },
     "execution_count": 24,
     "metadata": {},
     "output_type": "execute_result"
    }
   ],
   "source": [
    "c[0:8:4]"
   ]
  },
  {
   "cell_type": "code",
   "execution_count": 25,
   "id": "6f22146f",
   "metadata": {},
   "outputs": [
    {
     "data": {
      "text/plain": [
       "45"
      ]
     },
     "execution_count": 25,
     "metadata": {},
     "output_type": "execute_result"
    }
   ],
   "source": [
    "c[2]"
   ]
  },
  {
   "cell_type": "code",
   "execution_count": 4,
   "id": "e9fb6f2e",
   "metadata": {},
   "outputs": [
    {
     "data": {
      "text/plain": [
       "[175, 78, False, True, 45]"
      ]
     },
     "execution_count": 4,
     "metadata": {},
     "output_type": "execute_result"
    }
   ],
   "source": [
    "e = [175,78,False,True,45]\n",
    "e"
   ]
  },
  {
   "cell_type": "code",
   "execution_count": 5,
   "id": "dd653b89",
   "metadata": {},
   "outputs": [
    {
     "data": {
      "text/plain": [
       "[45, True]"
      ]
     },
     "execution_count": 5,
     "metadata": {},
     "output_type": "execute_result"
    }
   ],
   "source": [
    "e[6:2:-1]"
   ]
  },
  {
   "cell_type": "code",
   "execution_count": 8,
   "id": "515ee0c3",
   "metadata": {},
   "outputs": [
    {
     "data": {
      "text/plain": [
       "[203, 90, 'Hyderabad', True, False, 78, 34.9, 80]"
      ]
     },
     "execution_count": 8,
     "metadata": {},
     "output_type": "execute_result"
    }
   ],
   "source": [
    "c = [203,90,'Hyderabad',True,False,78,34.9,80]\n",
    "c"
   ]
  },
  {
   "cell_type": "markdown",
   "id": "5cb81710",
   "metadata": {},
   "source": [
    "list methods"
   ]
  },
  {
   "cell_type": "code",
   "execution_count": 9,
   "id": "5b407426",
   "metadata": {},
   "outputs": [
    {
     "ename": "NameError",
     "evalue": "name 'append' is not defined",
     "output_type": "error",
     "traceback": [
      "\u001b[1;31m---------------------------------------------------------------------------\u001b[0m",
      "\u001b[1;31mNameError\u001b[0m                                 Traceback (most recent call last)",
      "Cell \u001b[1;32mIn[9], line 1\u001b[0m\n\u001b[1;32m----> 1\u001b[0m append\n\u001b[0;32m      2\u001b[0m insert \n\u001b[0;32m      3\u001b[0m extend \n",
      "\u001b[1;31mNameError\u001b[0m: name 'append' is not defined"
     ]
    }
   ],
   "source": [
    "append\n",
    "insert \n",
    "extend \n",
    "pop\n",
    "remove\n",
    "clear \n",
    "count"
   ]
  },
  {
   "cell_type": "code",
   "execution_count": 14,
   "id": "4ff16aba",
   "metadata": {},
   "outputs": [
    {
     "data": {
      "text/plain": [
       "[203, 90, 'Hyderabad', False, 78, 34.9, 80]"
      ]
     },
     "execution_count": 14,
     "metadata": {},
     "output_type": "execute_result"
    }
   ],
   "source": [
    "c"
   ]
  },
  {
   "cell_type": "code",
   "execution_count": 16,
   "id": "d2882572",
   "metadata": {},
   "outputs": [
    {
     "data": {
      "text/plain": [
       "[203, 90, 'Hyderabad', 34.9, 80]"
      ]
     },
     "execution_count": 16,
     "metadata": {},
     "output_type": "execute_result"
    }
   ],
   "source": [
    "c.pop(3)\n",
    "c"
   ]
  },
  {
   "cell_type": "code",
   "execution_count": 17,
   "id": "09e7c594",
   "metadata": {},
   "outputs": [
    {
     "data": {
      "text/plain": [
       "[203, 90, 'Hyderabad', 34.9, 80, 80]"
      ]
     },
     "execution_count": 17,
     "metadata": {},
     "output_type": "execute_result"
    }
   ],
   "source": [
    "c.append(80)\n",
    "c"
   ]
  },
  {
   "cell_type": "code",
   "execution_count": 18,
   "id": "9db0146f",
   "metadata": {},
   "outputs": [
    {
     "data": {
      "text/plain": [
       "[203, 80, 90, 'Hyderabad', 34.9, 80, 80]"
      ]
     },
     "execution_count": 18,
     "metadata": {},
     "output_type": "execute_result"
    }
   ],
   "source": [
    "c.insert(1,80)\n",
    "c"
   ]
  },
  {
   "cell_type": "code",
   "execution_count": 19,
   "id": "ea1c6f85",
   "metadata": {},
   "outputs": [
    {
     "data": {
      "text/plain": [
       "[203, 80, 90, 'Hyderabad', 34.9, 80, 80]"
      ]
     },
     "execution_count": 19,
     "metadata": {},
     "output_type": "execute_result"
    }
   ],
   "source": [
    "c.count(203)\n",
    "c"
   ]
  },
  {
   "cell_type": "code",
   "execution_count": 6,
   "id": "a147257c",
   "metadata": {},
   "outputs": [
    {
     "data": {
      "text/plain": [
       "{101: 4, 102: 7, 105: 2}"
      ]
     },
     "execution_count": 6,
     "metadata": {},
     "output_type": "execute_result"
    }
   ],
   "source": [
    "d={101: 4,102:7,105: 2}\n",
    "d"
   ]
  },
  {
   "cell_type": "code",
   "execution_count": 4,
   "id": "05b75aad",
   "metadata": {},
   "outputs": [
    {
     "data": {
      "text/plain": [
       "4"
      ]
     },
     "execution_count": 4,
     "metadata": {},
     "output_type": "execute_result"
    }
   ],
   "source": [
    "d[101]"
   ]
  },
  {
   "cell_type": "code",
   "execution_count": 7,
   "id": "7fd36db6",
   "metadata": {},
   "outputs": [
    {
     "data": {
      "text/plain": [
       "2"
      ]
     },
     "execution_count": 7,
     "metadata": {},
     "output_type": "execute_result"
    }
   ],
   "source": [
    "d[105]"
   ]
  },
  {
   "cell_type": "code",
   "execution_count": 9,
   "id": "b2a237b8",
   "metadata": {},
   "outputs": [],
   "source": [
    "d.update({105:300})"
   ]
  },
  {
   "cell_type": "code",
   "execution_count": 10,
   "id": "218a53dd",
   "metadata": {},
   "outputs": [
    {
     "data": {
      "text/plain": [
       "{101: 4, 102: 7, 105: 300}"
      ]
     },
     "execution_count": 10,
     "metadata": {},
     "output_type": "execute_result"
    }
   ],
   "source": [
    "d"
   ]
  },
  {
   "cell_type": "code",
   "execution_count": 11,
   "id": "87610a29",
   "metadata": {},
   "outputs": [
    {
     "ename": "AttributeError",
     "evalue": "'dict' object has no attribute 'key'",
     "output_type": "error",
     "traceback": [
      "\u001b[1;31m---------------------------------------------------------------------------\u001b[0m",
      "\u001b[1;31mAttributeError\u001b[0m                            Traceback (most recent call last)",
      "\u001b[1;32m<ipython-input-11-270f045dc36c>\u001b[0m in \u001b[0;36m<module>\u001b[1;34m\u001b[0m\n\u001b[1;32m----> 1\u001b[1;33m \u001b[0md\u001b[0m\u001b[1;33m.\u001b[0m\u001b[0mkey\u001b[0m\u001b[1;33m(\u001b[0m\u001b[1;33m)\u001b[0m\u001b[1;33m\u001b[0m\u001b[1;33m\u001b[0m\u001b[0m\n\u001b[0m",
      "\u001b[1;31mAttributeError\u001b[0m: 'dict' object has no attribute 'key'"
     ]
    }
   ],
   "source": [
    "d.key()"
   ]
  },
  {
   "cell_type": "code",
   "execution_count": 12,
   "id": "648371b6",
   "metadata": {},
   "outputs": [
    {
     "ename": "NameError",
     "evalue": "name 'dict_keys' is not defined",
     "output_type": "error",
     "traceback": [
      "\u001b[1;31m---------------------------------------------------------------------------\u001b[0m",
      "\u001b[1;31mNameError\u001b[0m                                 Traceback (most recent call last)",
      "\u001b[1;32m<ipython-input-12-f064ee103cbf>\u001b[0m in \u001b[0;36m<module>\u001b[1;34m\u001b[0m\n\u001b[1;32m----> 1\u001b[1;33m \u001b[0mdict_keys\u001b[0m\u001b[1;33m(\u001b[0m\u001b[1;33m[\u001b[0m\u001b[1;36m101\u001b[0m\u001b[1;33m,\u001b[0m\u001b[1;36m102\u001b[0m\u001b[1;33m,\u001b[0m\u001b[1;36m105\u001b[0m\u001b[1;33m]\u001b[0m\u001b[1;33m)\u001b[0m\u001b[1;33m\u001b[0m\u001b[1;33m\u001b[0m\u001b[0m\n\u001b[0m",
      "\u001b[1;31mNameError\u001b[0m: name 'dict_keys' is not defined"
     ]
    }
   ],
   "source": [
    "dict_keys([101,102,105])"
   ]
  },
  {
   "cell_type": "code",
   "execution_count": 13,
   "id": "79679e10",
   "metadata": {},
   "outputs": [
    {
     "data": {
      "text/plain": [
       "dict_values([4, 7, 300])"
      ]
     },
     "execution_count": 13,
     "metadata": {},
     "output_type": "execute_result"
    }
   ],
   "source": [
    "d.values()"
   ]
  },
  {
   "cell_type": "code",
   "execution_count": 14,
   "id": "111d905b",
   "metadata": {},
   "outputs": [],
   "source": [
    "d.update({103: 'India'})"
   ]
  },
  {
   "cell_type": "code",
   "execution_count": 15,
   "id": "85329a6d",
   "metadata": {},
   "outputs": [
    {
     "data": {
      "text/plain": [
       "{101: 4, 102: 7, 105: 300, 103: 'India'}"
      ]
     },
     "execution_count": 15,
     "metadata": {},
     "output_type": "execute_result"
    }
   ],
   "source": [
    "d"
   ]
  },
  {
   "cell_type": "code",
   "execution_count": 16,
   "id": "f70e9ec6",
   "metadata": {},
   "outputs": [],
   "source": [
    "d[106] = 4000"
   ]
  },
  {
   "cell_type": "code",
   "execution_count": 17,
   "id": "c0314014",
   "metadata": {},
   "outputs": [
    {
     "data": {
      "text/plain": [
       "{101: 4, 102: 7, 105: 300, 103: 'India', 106: 4000}"
      ]
     },
     "execution_count": 17,
     "metadata": {},
     "output_type": "execute_result"
    }
   ],
   "source": [
    "d"
   ]
  },
  {
   "cell_type": "code",
   "execution_count": 19,
   "id": "88982caa",
   "metadata": {},
   "outputs": [],
   "source": [
    "d[107] = 3000"
   ]
  },
  {
   "cell_type": "code",
   "execution_count": 20,
   "id": "56bc1fd8",
   "metadata": {},
   "outputs": [
    {
     "data": {
      "text/plain": [
       "{101: 4, 102: 7, 105: 300, 103: 'India', 106: 4000, 107: 3000}"
      ]
     },
     "execution_count": 20,
     "metadata": {},
     "output_type": "execute_result"
    }
   ],
   "source": [
    "d"
   ]
  },
  {
   "cell_type": "code",
   "execution_count": 21,
   "id": "cb3aa0ad",
   "metadata": {},
   "outputs": [],
   "source": [
    "d[108] = 'ram'"
   ]
  },
  {
   "cell_type": "code",
   "execution_count": 22,
   "id": "6a7f77dc",
   "metadata": {},
   "outputs": [
    {
     "data": {
      "text/plain": [
       "{101: 4, 102: 7, 105: 300, 103: 'India', 106: 4000, 107: 3000, 108: 'ram'}"
      ]
     },
     "execution_count": 22,
     "metadata": {},
     "output_type": "execute_result"
    }
   ],
   "source": [
    "d"
   ]
  },
  {
   "cell_type": "code",
   "execution_count": 23,
   "id": "b7b1ef04",
   "metadata": {},
   "outputs": [],
   "source": [
    "del d[105]"
   ]
  },
  {
   "cell_type": "code",
   "execution_count": 24,
   "id": "f78b83ee",
   "metadata": {},
   "outputs": [
    {
     "data": {
      "text/plain": [
       "{101: 4, 102: 7, 103: 'India', 106: 4000, 107: 3000, 108: 'ram'}"
      ]
     },
     "execution_count": 24,
     "metadata": {},
     "output_type": "execute_result"
    }
   ],
   "source": [
    "d"
   ]
  },
  {
   "cell_type": "code",
   "execution_count": 25,
   "id": "cd029634",
   "metadata": {},
   "outputs": [],
   "source": [
    "d.update({102 : 600})"
   ]
  },
  {
   "cell_type": "code",
   "execution_count": 26,
   "id": "0ff08a51",
   "metadata": {},
   "outputs": [
    {
     "data": {
      "text/plain": [
       "{101: 4, 102: 600, 103: 'India', 106: 4000, 107: 3000, 108: 'ram'}"
      ]
     },
     "execution_count": 26,
     "metadata": {},
     "output_type": "execute_result"
    }
   ],
   "source": [
    "d"
   ]
  },
  {
   "cell_type": "code",
   "execution_count": 27,
   "id": "37460396",
   "metadata": {},
   "outputs": [],
   "source": [
    "d.update({101 : 'India'})"
   ]
  },
  {
   "cell_type": "code",
   "execution_count": 28,
   "id": "6ff2251d",
   "metadata": {},
   "outputs": [
    {
     "data": {
      "text/plain": [
       "{101: 'India', 102: 600, 103: 'India', 106: 4000, 107: 3000, 108: 'ram'}"
      ]
     },
     "execution_count": 28,
     "metadata": {},
     "output_type": "execute_result"
    }
   ],
   "source": [
    "d"
   ]
  },
  {
   "cell_type": "code",
   "execution_count": 29,
   "id": "d7fe375d",
   "metadata": {},
   "outputs": [
    {
     "data": {
      "text/plain": [
       "'India'"
      ]
     },
     "execution_count": 29,
     "metadata": {},
     "output_type": "execute_result"
    }
   ],
   "source": [
    "d.get(103)"
   ]
  },
  {
   "cell_type": "code",
   "execution_count": 30,
   "id": "23a27a3f",
   "metadata": {},
   "outputs": [
    {
     "data": {
      "text/plain": [
       "dict"
      ]
     },
     "execution_count": 30,
     "metadata": {},
     "output_type": "execute_result"
    }
   ],
   "source": [
    "type(d)"
   ]
  },
  {
   "cell_type": "code",
   "execution_count": 31,
   "id": "a5a3e73b",
   "metadata": {},
   "outputs": [
    {
     "data": {
      "text/plain": [
       "{101: 'India', 102: 600, 103: 'India', 106: 4000, 107: 3000, 108: 'ram'}"
      ]
     },
     "execution_count": 31,
     "metadata": {},
     "output_type": "execute_result"
    }
   ],
   "source": [
    "d"
   ]
  },
  {
   "cell_type": "code",
   "execution_count": 32,
   "id": "54921bd4",
   "metadata": {},
   "outputs": [],
   "source": [
    "d[104] = [1000,2000,3000,4000,5000]"
   ]
  },
  {
   "cell_type": "code",
   "execution_count": 33,
   "id": "95542f35",
   "metadata": {},
   "outputs": [
    {
     "data": {
      "text/plain": [
       "{101: 'India',\n",
       " 102: 600,\n",
       " 103: 'India',\n",
       " 106: 4000,\n",
       " 107: 3000,\n",
       " 108: 'ram',\n",
       " 104: [1000, 2000, 3000, 4000, 5000]}"
      ]
     },
     "execution_count": 33,
     "metadata": {},
     "output_type": "execute_result"
    }
   ],
   "source": [
    "d"
   ]
  },
  {
   "cell_type": "code",
   "execution_count": 35,
   "id": "bc3c6bc6",
   "metadata": {},
   "outputs": [
    {
     "data": {
      "text/plain": [
       "int"
      ]
     },
     "execution_count": 35,
     "metadata": {},
     "output_type": "execute_result"
    }
   ],
   "source": [
    "type(d[107])"
   ]
  },
  {
   "cell_type": "code",
   "execution_count": 36,
   "id": "af3a9369",
   "metadata": {},
   "outputs": [
    {
     "data": {
      "text/plain": [
       "str"
      ]
     },
     "execution_count": 36,
     "metadata": {},
     "output_type": "execute_result"
    }
   ],
   "source": [
    "type(d[103])"
   ]
  },
  {
   "cell_type": "code",
   "execution_count": 40,
   "id": "38b828f6",
   "metadata": {},
   "outputs": [
    {
     "data": {
      "text/plain": [
       "{101: 'India',\n",
       " 102: 600,\n",
       " 103: 'India',\n",
       " 106: 4000,\n",
       " 107: 3000,\n",
       " 108: 'ram',\n",
       " 104: [1000, 2000, 3000, 4000, 5000]}"
      ]
     },
     "execution_count": 40,
     "metadata": {},
     "output_type": "execute_result"
    }
   ],
   "source": [
    "d"
   ]
  },
  {
   "cell_type": "code",
   "execution_count": 41,
   "id": "35d5fbdc",
   "metadata": {},
   "outputs": [],
   "source": [
    "d.update({103:(30,40,50,60,70)})"
   ]
  },
  {
   "cell_type": "code",
   "execution_count": 42,
   "id": "bc23bf1d",
   "metadata": {},
   "outputs": [
    {
     "data": {
      "text/plain": [
       "{101: 'India',\n",
       " 102: 600,\n",
       " 103: (30, 40, 50, 60, 70),\n",
       " 106: 4000,\n",
       " 107: 3000,\n",
       " 108: 'ram',\n",
       " 104: [1000, 2000, 3000, 4000, 5000]}"
      ]
     },
     "execution_count": 42,
     "metadata": {},
     "output_type": "execute_result"
    }
   ],
   "source": [
    "d"
   ]
  },
  {
   "cell_type": "code",
   "execution_count": 43,
   "id": "0f942a91",
   "metadata": {},
   "outputs": [],
   "source": [
    "d[104].append(9000)"
   ]
  },
  {
   "cell_type": "code",
   "execution_count": 44,
   "id": "2777728f",
   "metadata": {},
   "outputs": [
    {
     "data": {
      "text/plain": [
       "{101: 'India',\n",
       " 102: 600,\n",
       " 103: (30, 40, 50, 60, 70),\n",
       " 106: 4000,\n",
       " 107: 3000,\n",
       " 108: 'ram',\n",
       " 104: [1000, 2000, 3000, 4000, 5000, 9000]}"
      ]
     },
     "execution_count": 44,
     "metadata": {},
     "output_type": "execute_result"
    }
   ],
   "source": [
    "d"
   ]
  },
  {
   "cell_type": "code",
   "execution_count": 45,
   "id": "b28ae2a2",
   "metadata": {},
   "outputs": [
    {
     "data": {
      "text/plain": [
       "[1000, 2000, 3000, 4000, 5000, 9000]"
      ]
     },
     "execution_count": 45,
     "metadata": {},
     "output_type": "execute_result"
    }
   ],
   "source": [
    "d[104]"
   ]
  },
  {
   "cell_type": "code",
   "execution_count": 46,
   "id": "19991f51",
   "metadata": {},
   "outputs": [
    {
     "data": {
      "text/plain": [
       "list"
      ]
     },
     "execution_count": 46,
     "metadata": {},
     "output_type": "execute_result"
    }
   ],
   "source": [
    "type(d[104])"
   ]
  },
  {
   "cell_type": "code",
   "execution_count": 47,
   "id": "6880bf7f",
   "metadata": {},
   "outputs": [
    {
     "data": {
      "text/plain": [
       "1"
      ]
     },
     "execution_count": 47,
     "metadata": {},
     "output_type": "execute_result"
    }
   ],
   "source": [
    "d[104].count(9000)"
   ]
  },
  {
   "cell_type": "code",
   "execution_count": 48,
   "id": "e63fbbd9",
   "metadata": {},
   "outputs": [
    {
     "data": {
      "text/plain": [
       "0"
      ]
     },
     "execution_count": 48,
     "metadata": {},
     "output_type": "execute_result"
    }
   ],
   "source": [
    "d[104].count(10000)"
   ]
  },
  {
   "cell_type": "code",
   "execution_count": 49,
   "id": "8e3c2840",
   "metadata": {},
   "outputs": [],
   "source": [
    "a='india'"
   ]
  },
  {
   "cell_type": "code",
   "execution_count": 50,
   "id": "6bec96ff",
   "metadata": {},
   "outputs": [
    {
     "data": {
      "text/plain": [
       "'india'"
      ]
     },
     "execution_count": 50,
     "metadata": {},
     "output_type": "execute_result"
    }
   ],
   "source": [
    "a"
   ]
  },
  {
   "cell_type": "code",
   "execution_count": 51,
   "id": "a7c9926c",
   "metadata": {},
   "outputs": [
    {
     "data": {
      "text/plain": [
       "False"
      ]
     },
     "execution_count": 51,
     "metadata": {},
     "output_type": "execute_result"
    }
   ],
   "source": [
    "a.isdigit()"
   ]
  },
  {
   "cell_type": "code",
   "execution_count": 52,
   "id": "5041c55e",
   "metadata": {},
   "outputs": [
    {
     "data": {
      "text/plain": [
       "'INDIA'"
      ]
     },
     "execution_count": 52,
     "metadata": {},
     "output_type": "execute_result"
    }
   ],
   "source": [
    "a.upper()"
   ]
  },
  {
   "cell_type": "code",
   "execution_count": 53,
   "id": "9a40b2f5",
   "metadata": {},
   "outputs": [
    {
     "data": {
      "text/plain": [
       "'india'"
      ]
     },
     "execution_count": 53,
     "metadata": {},
     "output_type": "execute_result"
    }
   ],
   "source": [
    "a.lower()"
   ]
  },
  {
   "cell_type": "code",
   "execution_count": 56,
   "id": "ee095172",
   "metadata": {},
   "outputs": [],
   "source": [
    "d[104].insert(2,5500)"
   ]
  },
  {
   "cell_type": "code",
   "execution_count": 57,
   "id": "a6f9466c",
   "metadata": {
    "scrolled": true
   },
   "outputs": [
    {
     "data": {
      "text/plain": [
       "{101: 'India',\n",
       " 102: 600,\n",
       " 103: (30, 40, 50, 60, 70),\n",
       " 106: 4000,\n",
       " 107: 3000,\n",
       " 108: 'ram',\n",
       " 104: [1000, 2000, 5500, 3000, 4000, 5000, 9000]}"
      ]
     },
     "execution_count": 57,
     "metadata": {},
     "output_type": "execute_result"
    }
   ],
   "source": [
    "d"
   ]
  },
  {
   "cell_type": "code",
   "execution_count": 58,
   "id": "92b45852",
   "metadata": {},
   "outputs": [],
   "source": [
    "d.update({103:(30,40,50,60)})"
   ]
  },
  {
   "cell_type": "code",
   "execution_count": 59,
   "id": "14ce874b",
   "metadata": {},
   "outputs": [
    {
     "data": {
      "text/plain": [
       "{101: 'India',\n",
       " 102: 600,\n",
       " 103: (30, 40, 50, 60),\n",
       " 106: 4000,\n",
       " 107: 3000,\n",
       " 108: 'ram',\n",
       " 104: [1000, 2000, 5500, 3000, 4000, 5000, 9000]}"
      ]
     },
     "execution_count": 59,
     "metadata": {},
     "output_type": "execute_result"
    }
   ],
   "source": [
    "d"
   ]
  },
  {
   "cell_type": "code",
   "execution_count": 60,
   "id": "3998c912",
   "metadata": {},
   "outputs": [
    {
     "data": {
      "text/plain": [
       "int"
      ]
     },
     "execution_count": 60,
     "metadata": {},
     "output_type": "execute_result"
    }
   ],
   "source": [
    "type(d[107])"
   ]
  },
  {
   "cell_type": "code",
   "execution_count": 62,
   "id": "dd7d9338",
   "metadata": {},
   "outputs": [
    {
     "data": {
      "text/plain": [
       "'RAM'"
      ]
     },
     "execution_count": 62,
     "metadata": {},
     "output_type": "execute_result"
    }
   ],
   "source": [
    "d[108].upper()"
   ]
  },
  {
   "cell_type": "code",
   "execution_count": 64,
   "id": "d27897db",
   "metadata": {},
   "outputs": [],
   "source": [
    "d[101]=d[101].upper()"
   ]
  },
  {
   "cell_type": "code",
   "execution_count": 65,
   "id": "05aa868f",
   "metadata": {},
   "outputs": [
    {
     "data": {
      "text/plain": [
       "{101: 'INDIA',\n",
       " 102: 600,\n",
       " 103: (30, 40, 50, 60),\n",
       " 106: 4000,\n",
       " 107: 3000,\n",
       " 108: 'ram',\n",
       " 104: [1000, 2000, 5500, 3000, 4000, 5000, 9000]}"
      ]
     },
     "execution_count": 65,
     "metadata": {},
     "output_type": "execute_result"
    }
   ],
   "source": [
    "d"
   ]
  },
  {
   "cell_type": "code",
   "execution_count": 66,
   "id": "c31fed69",
   "metadata": {},
   "outputs": [],
   "source": [
    "d[108]=d[108].upper()"
   ]
  },
  {
   "cell_type": "code",
   "execution_count": 67,
   "id": "4c59ef9a",
   "metadata": {},
   "outputs": [
    {
     "data": {
      "text/plain": [
       "{101: 'INDIA',\n",
       " 102: 600,\n",
       " 103: (30, 40, 50, 60),\n",
       " 106: 4000,\n",
       " 107: 3000,\n",
       " 108: 'RAM',\n",
       " 104: [1000, 2000, 5500, 3000, 4000, 5000, 9000]}"
      ]
     },
     "execution_count": 67,
     "metadata": {},
     "output_type": "execute_result"
    }
   ],
   "source": [
    "d"
   ]
  },
  {
   "cell_type": "code",
   "execution_count": 68,
   "id": "beb55a6d",
   "metadata": {},
   "outputs": [
    {
     "data": {
      "text/plain": [
       "'india'"
      ]
     },
     "execution_count": 68,
     "metadata": {},
     "output_type": "execute_result"
    }
   ],
   "source": [
    "d[101].lower()"
   ]
  },
  {
   "cell_type": "code",
   "execution_count": 69,
   "id": "ed0d5328",
   "metadata": {},
   "outputs": [],
   "source": [
    "d[101]=d[101].lower()"
   ]
  },
  {
   "cell_type": "code",
   "execution_count": 70,
   "id": "d64aef14",
   "metadata": {},
   "outputs": [
    {
     "data": {
      "text/plain": [
       "{101: 'india',\n",
       " 102: 600,\n",
       " 103: (30, 40, 50, 60),\n",
       " 106: 4000,\n",
       " 107: 3000,\n",
       " 108: 'RAM',\n",
       " 104: [1000, 2000, 5500, 3000, 4000, 5000, 9000]}"
      ]
     },
     "execution_count": 70,
     "metadata": {},
     "output_type": "execute_result"
    }
   ],
   "source": [
    "d"
   ]
  },
  {
   "cell_type": "code",
   "execution_count": 71,
   "id": "1127f4ae",
   "metadata": {},
   "outputs": [],
   "source": [
    "d[108]=d[108].lower()"
   ]
  },
  {
   "cell_type": "code",
   "execution_count": 72,
   "id": "8043d80b",
   "metadata": {},
   "outputs": [
    {
     "data": {
      "text/plain": [
       "{101: 'india',\n",
       " 102: 600,\n",
       " 103: (30, 40, 50, 60),\n",
       " 106: 4000,\n",
       " 107: 3000,\n",
       " 108: 'ram',\n",
       " 104: [1000, 2000, 5500, 3000, 4000, 5000, 9000]}"
      ]
     },
     "execution_count": 72,
     "metadata": {},
     "output_type": "execute_result"
    }
   ],
   "source": [
    "d"
   ]
  },
  {
   "cell_type": "code",
   "execution_count": 73,
   "id": "459007b5",
   "metadata": {},
   "outputs": [
    {
     "data": {
      "text/plain": [
       "int"
      ]
     },
     "execution_count": 73,
     "metadata": {},
     "output_type": "execute_result"
    }
   ],
   "source": [
    "type(d[102])"
   ]
  },
  {
   "cell_type": "code",
   "execution_count": 74,
   "id": "72782724",
   "metadata": {},
   "outputs": [
    {
     "data": {
      "text/plain": [
       "tuple"
      ]
     },
     "execution_count": 74,
     "metadata": {},
     "output_type": "execute_result"
    }
   ],
   "source": [
    "type(d[103])"
   ]
  },
  {
   "cell_type": "code",
   "execution_count": 75,
   "id": "a11d3c61",
   "metadata": {},
   "outputs": [],
   "source": [
    "d[101]={50:[7,8,9,10],'apple':(20,10,70,[90,180,270])}"
   ]
  },
  {
   "cell_type": "code",
   "execution_count": 76,
   "id": "646fb6c5",
   "metadata": {},
   "outputs": [
    {
     "data": {
      "text/plain": [
       "{101: {50: [7, 8, 9, 10], 'apple': (20, 10, 70, [90, 180, 270])},\n",
       " 102: 600,\n",
       " 103: (30, 40, 50, 60),\n",
       " 106: 4000,\n",
       " 107: 3000,\n",
       " 108: 'ram',\n",
       " 104: [1000, 2000, 5500, 3000, 4000, 5000, 9000]}"
      ]
     },
     "execution_count": 76,
     "metadata": {},
     "output_type": "execute_result"
    }
   ],
   "source": [
    "d"
   ]
  },
  {
   "cell_type": "code",
   "execution_count": 77,
   "id": "000ffd44",
   "metadata": {},
   "outputs": [],
   "source": [
    "d[105]={'a':{30,50,70},'b':(1000,5000,7000,9000),'c':['K',{'L':[11,22],'M':(77,88)},'N']}"
   ]
  },
  {
   "cell_type": "code",
   "execution_count": 78,
   "id": "01cebf05",
   "metadata": {},
   "outputs": [
    {
     "data": {
      "text/plain": [
       "{101: {50: [7, 8, 9, 10], 'apple': (20, 10, 70, [90, 180, 270])},\n",
       " 102: 600,\n",
       " 103: (30, 40, 50, 60),\n",
       " 106: 4000,\n",
       " 107: 3000,\n",
       " 108: 'ram',\n",
       " 104: [1000, 2000, 5500, 3000, 4000, 5000, 9000],\n",
       " 105: {'a': {30, 50, 70},\n",
       "  'b': (1000, 5000, 7000, 9000),\n",
       "  'c': ['K', {'L': [11, 22], 'M': (77, 88)}, 'N']}}"
      ]
     },
     "execution_count": 78,
     "metadata": {},
     "output_type": "execute_result"
    }
   ],
   "source": [
    "d"
   ]
  },
  {
   "cell_type": "code",
   "execution_count": null,
   "id": "ffd39a80-1412-46a1-b8e7-cfed553ea82f",
   "metadata": {},
   "outputs": [],
   "source": []
  },
  {
   "cell_type": "code",
   "execution_count": null,
   "id": "746cdecc-c8ca-4372-b4ba-f0858e05e0e0",
   "metadata": {},
   "outputs": [],
   "source": []
  }
 ],
 "metadata": {
  "kernelspec": {
   "display_name": "Python [conda env:base] *",
   "language": "python",
   "name": "conda-base-py"
  },
  "language_info": {
   "codemirror_mode": {
    "name": "ipython",
    "version": 3
   },
   "file_extension": ".py",
   "mimetype": "text/x-python",
   "name": "python",
   "nbconvert_exporter": "python",
   "pygments_lexer": "ipython3",
   "version": "3.12.7"
  }
 },
 "nbformat": 4,
 "nbformat_minor": 5
}
